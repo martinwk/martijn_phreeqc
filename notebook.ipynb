{
 "cells": [
  {
   "cell_type": "markdown",
   "metadata": {},
   "source": [
    " # Figures for Martijn / RSF / HCO3/Co2"
   ]
  },
  {
   "cell_type": "code",
   "execution_count": 20,
   "metadata": {},
   "outputs": [
    {
     "name": "stdout",
     "output_type": "stream",
     "text": [
      "The autoreload extension is already loaded. To reload it, use:\n",
      "  %reload_ext autoreload\n"
     ]
    }
   ],
   "source": [
    "# set working directory to main directory of package\n",
    "import os\n",
    "\n",
    "from matplotlib.pyplot import ylabel\n",
    "try:\n",
    "    current_file_dir = Path(__file__).parent\n",
    "except NameError:\n",
    "    current_file_dir = os.getcwd()\n",
    "\n",
    "from pathlib import Path\n",
    "# from set_cwd_to_project_root import project_root\n",
    "\n",
    "import pandas as pd\n",
    "import numpy as np\n",
    "import plotting\n",
    "\n",
    "from chemistry_tools.formulae.formula import Formula\n",
    "mw_hco3 = Formula.from_string('HCO3').mass\n",
    "mw_nahco3 = Formula.from_string('NaHCO3').mass\n",
    "mw_co2 = Formula.from_string('CO2').mass\n",
    "mw_ca = Formula.from_string('CO2').mass\n",
    "from phreeqpython.phreeqpython import PhreeqPython\n",
    "\n",
    "pd.options.plotting.backend = \"plotly\"\n",
    "%load_ext autoreload\n",
    "%autoreload 2\n"
   ]
  },
  {
   "cell_type": "code",
   "execution_count": 21,
   "metadata": {},
   "outputs": [
    {
     "data": {
      "text/plain": [
       "'d:\\\\Users\\\\korevma\\\\Documents\\\\Repositories\\\\martijn_phreeqc'"
      ]
     },
     "execution_count": 21,
     "metadata": {},
     "output_type": "execute_result"
    }
   ],
   "source": [
    "current_file_dir"
   ]
  },
  {
   "cell_type": "markdown",
   "metadata": {},
   "source": [
    " # Solution in tank"
   ]
  },
  {
   "cell_type": "code",
   "execution_count": 54,
   "metadata": {},
   "outputs": [
    {
     "data": {
      "application/vnd.plotly.v1+json": {
       "config": {
        "plotlyServerURL": "https://plot.ly"
       },
       "data": [
        {
         "name": "tank",
         "type": "bar",
         "x": [
          "CO2",
          "CO3-2",
          "Ca+2",
          "CaCO3",
          "CaH2PO4+",
          "CaHCO3+",
          "CaHPO4",
          "CaHSO4+",
          "CaOH+",
          "CaPO4-",
          "CaSO4",
          "Cl-",
          "H+",
          "H2",
          "H2PO4-",
          "H2SiO4-2",
          "H3PO4",
          "H3SiO4-",
          "H4SiO4",
          "HCO3-",
          "HPO4-2",
          "HSO4-",
          "K+",
          "KHPO4-",
          "KSO4-",
          "Mg+2",
          "MgCO3",
          "MgH2PO4+",
          "MgHCO3+",
          "MgHPO4",
          "MgOH+",
          "MgPO4-",
          "MgSO4",
          "Na+",
          "NaCO3-",
          "NaHCO3",
          "NaHPO4-",
          "NaOH",
          "NaSO4-",
          "O2",
          "OH-",
          "PO4-3",
          "SO4-2",
          "[Fe+2]+2"
         ],
         "y": [
          0.000606678014265118,
          0.0000064124332234660965,
          0.0030166788660390496,
          0.000012880816251863925,
          3.6221445834009906e-7,
          0.00013006036450914724,
          0.00000842553880366858,
          1.2640446579553294e-15,
          7.335248477095682e-9,
          4.0198322018109875e-7,
          3.6809090970371242e-9,
          0.0021579068573004748,
          5.505830750185637e-8,
          1.86581488402462e-26,
          0.000007847000390657155,
          8.146563957645294e-13,
          4.8992859217142226e-11,
          6.173957919554131e-7,
          0.0002247972875499562,
          0.005587694809723177,
          0.000012966415071788256,
          5.284379264051717e-14,
          0.00005115266366241138,
          8.4448246474491e-10,
          3.5437012927110657e-12,
          0.00039206165560783606,
          9.713645804558456e-7,
          6.037336096244119e-8,
          0.00001676885507197684,
          0.0000014909986655649186,
          1.3177580858919244e-8,
          7.097207398040822e-8,
          5.787835238115715e-10,
          0.0007765084330849168,
          4.742780757114935e-8,
          0.00000203062282095348,
          1.2866576185498891e-8,
          9.51327148996737e-21,
          4.074995587007491e-11,
          0,
          1.524364160430516e-7,
          1.834332758863923e-10,
          1.6517147254694253e-8,
          5.372011818425998e-7
         ]
        }
       ],
       "layout": {
        "barmode": "group",
        "template": {
         "data": {
          "bar": [
           {
            "error_x": {
             "color": "#2a3f5f"
            },
            "error_y": {
             "color": "#2a3f5f"
            },
            "marker": {
             "line": {
              "color": "#E5ECF6",
              "width": 0.5
             }
            },
            "type": "bar"
           }
          ],
          "barpolar": [
           {
            "marker": {
             "line": {
              "color": "#E5ECF6",
              "width": 0.5
             }
            },
            "type": "barpolar"
           }
          ],
          "carpet": [
           {
            "aaxis": {
             "endlinecolor": "#2a3f5f",
             "gridcolor": "white",
             "linecolor": "white",
             "minorgridcolor": "white",
             "startlinecolor": "#2a3f5f"
            },
            "baxis": {
             "endlinecolor": "#2a3f5f",
             "gridcolor": "white",
             "linecolor": "white",
             "minorgridcolor": "white",
             "startlinecolor": "#2a3f5f"
            },
            "type": "carpet"
           }
          ],
          "choropleth": [
           {
            "colorbar": {
             "outlinewidth": 0,
             "ticks": ""
            },
            "type": "choropleth"
           }
          ],
          "contour": [
           {
            "colorbar": {
             "outlinewidth": 0,
             "ticks": ""
            },
            "colorscale": [
             [
              0,
              "#0d0887"
             ],
             [
              0.1111111111111111,
              "#46039f"
             ],
             [
              0.2222222222222222,
              "#7201a8"
             ],
             [
              0.3333333333333333,
              "#9c179e"
             ],
             [
              0.4444444444444444,
              "#bd3786"
             ],
             [
              0.5555555555555556,
              "#d8576b"
             ],
             [
              0.6666666666666666,
              "#ed7953"
             ],
             [
              0.7777777777777778,
              "#fb9f3a"
             ],
             [
              0.8888888888888888,
              "#fdca26"
             ],
             [
              1,
              "#f0f921"
             ]
            ],
            "type": "contour"
           }
          ],
          "contourcarpet": [
           {
            "colorbar": {
             "outlinewidth": 0,
             "ticks": ""
            },
            "type": "contourcarpet"
           }
          ],
          "heatmap": [
           {
            "colorbar": {
             "outlinewidth": 0,
             "ticks": ""
            },
            "colorscale": [
             [
              0,
              "#0d0887"
             ],
             [
              0.1111111111111111,
              "#46039f"
             ],
             [
              0.2222222222222222,
              "#7201a8"
             ],
             [
              0.3333333333333333,
              "#9c179e"
             ],
             [
              0.4444444444444444,
              "#bd3786"
             ],
             [
              0.5555555555555556,
              "#d8576b"
             ],
             [
              0.6666666666666666,
              "#ed7953"
             ],
             [
              0.7777777777777778,
              "#fb9f3a"
             ],
             [
              0.8888888888888888,
              "#fdca26"
             ],
             [
              1,
              "#f0f921"
             ]
            ],
            "type": "heatmap"
           }
          ],
          "heatmapgl": [
           {
            "colorbar": {
             "outlinewidth": 0,
             "ticks": ""
            },
            "colorscale": [
             [
              0,
              "#0d0887"
             ],
             [
              0.1111111111111111,
              "#46039f"
             ],
             [
              0.2222222222222222,
              "#7201a8"
             ],
             [
              0.3333333333333333,
              "#9c179e"
             ],
             [
              0.4444444444444444,
              "#bd3786"
             ],
             [
              0.5555555555555556,
              "#d8576b"
             ],
             [
              0.6666666666666666,
              "#ed7953"
             ],
             [
              0.7777777777777778,
              "#fb9f3a"
             ],
             [
              0.8888888888888888,
              "#fdca26"
             ],
             [
              1,
              "#f0f921"
             ]
            ],
            "type": "heatmapgl"
           }
          ],
          "histogram": [
           {
            "marker": {
             "colorbar": {
              "outlinewidth": 0,
              "ticks": ""
             }
            },
            "type": "histogram"
           }
          ],
          "histogram2d": [
           {
            "colorbar": {
             "outlinewidth": 0,
             "ticks": ""
            },
            "colorscale": [
             [
              0,
              "#0d0887"
             ],
             [
              0.1111111111111111,
              "#46039f"
             ],
             [
              0.2222222222222222,
              "#7201a8"
             ],
             [
              0.3333333333333333,
              "#9c179e"
             ],
             [
              0.4444444444444444,
              "#bd3786"
             ],
             [
              0.5555555555555556,
              "#d8576b"
             ],
             [
              0.6666666666666666,
              "#ed7953"
             ],
             [
              0.7777777777777778,
              "#fb9f3a"
             ],
             [
              0.8888888888888888,
              "#fdca26"
             ],
             [
              1,
              "#f0f921"
             ]
            ],
            "type": "histogram2d"
           }
          ],
          "histogram2dcontour": [
           {
            "colorbar": {
             "outlinewidth": 0,
             "ticks": ""
            },
            "colorscale": [
             [
              0,
              "#0d0887"
             ],
             [
              0.1111111111111111,
              "#46039f"
             ],
             [
              0.2222222222222222,
              "#7201a8"
             ],
             [
              0.3333333333333333,
              "#9c179e"
             ],
             [
              0.4444444444444444,
              "#bd3786"
             ],
             [
              0.5555555555555556,
              "#d8576b"
             ],
             [
              0.6666666666666666,
              "#ed7953"
             ],
             [
              0.7777777777777778,
              "#fb9f3a"
             ],
             [
              0.8888888888888888,
              "#fdca26"
             ],
             [
              1,
              "#f0f921"
             ]
            ],
            "type": "histogram2dcontour"
           }
          ],
          "mesh3d": [
           {
            "colorbar": {
             "outlinewidth": 0,
             "ticks": ""
            },
            "type": "mesh3d"
           }
          ],
          "parcoords": [
           {
            "line": {
             "colorbar": {
              "outlinewidth": 0,
              "ticks": ""
             }
            },
            "type": "parcoords"
           }
          ],
          "pie": [
           {
            "automargin": true,
            "type": "pie"
           }
          ],
          "scatter": [
           {
            "marker": {
             "colorbar": {
              "outlinewidth": 0,
              "ticks": ""
             }
            },
            "type": "scatter"
           }
          ],
          "scatter3d": [
           {
            "line": {
             "colorbar": {
              "outlinewidth": 0,
              "ticks": ""
             }
            },
            "marker": {
             "colorbar": {
              "outlinewidth": 0,
              "ticks": ""
             }
            },
            "type": "scatter3d"
           }
          ],
          "scattercarpet": [
           {
            "marker": {
             "colorbar": {
              "outlinewidth": 0,
              "ticks": ""
             }
            },
            "type": "scattercarpet"
           }
          ],
          "scattergeo": [
           {
            "marker": {
             "colorbar": {
              "outlinewidth": 0,
              "ticks": ""
             }
            },
            "type": "scattergeo"
           }
          ],
          "scattergl": [
           {
            "marker": {
             "colorbar": {
              "outlinewidth": 0,
              "ticks": ""
             }
            },
            "type": "scattergl"
           }
          ],
          "scattermapbox": [
           {
            "marker": {
             "colorbar": {
              "outlinewidth": 0,
              "ticks": ""
             }
            },
            "type": "scattermapbox"
           }
          ],
          "scatterpolar": [
           {
            "marker": {
             "colorbar": {
              "outlinewidth": 0,
              "ticks": ""
             }
            },
            "type": "scatterpolar"
           }
          ],
          "scatterpolargl": [
           {
            "marker": {
             "colorbar": {
              "outlinewidth": 0,
              "ticks": ""
             }
            },
            "type": "scatterpolargl"
           }
          ],
          "scatterternary": [
           {
            "marker": {
             "colorbar": {
              "outlinewidth": 0,
              "ticks": ""
             }
            },
            "type": "scatterternary"
           }
          ],
          "surface": [
           {
            "colorbar": {
             "outlinewidth": 0,
             "ticks": ""
            },
            "colorscale": [
             [
              0,
              "#0d0887"
             ],
             [
              0.1111111111111111,
              "#46039f"
             ],
             [
              0.2222222222222222,
              "#7201a8"
             ],
             [
              0.3333333333333333,
              "#9c179e"
             ],
             [
              0.4444444444444444,
              "#bd3786"
             ],
             [
              0.5555555555555556,
              "#d8576b"
             ],
             [
              0.6666666666666666,
              "#ed7953"
             ],
             [
              0.7777777777777778,
              "#fb9f3a"
             ],
             [
              0.8888888888888888,
              "#fdca26"
             ],
             [
              1,
              "#f0f921"
             ]
            ],
            "type": "surface"
           }
          ],
          "table": [
           {
            "cells": {
             "fill": {
              "color": "#EBF0F8"
             },
             "line": {
              "color": "white"
             }
            },
            "header": {
             "fill": {
              "color": "#C8D4E3"
             },
             "line": {
              "color": "white"
             }
            },
            "type": "table"
           }
          ]
         },
         "layout": {
          "annotationdefaults": {
           "arrowcolor": "#2a3f5f",
           "arrowhead": 0,
           "arrowwidth": 1
          },
          "coloraxis": {
           "colorbar": {
            "outlinewidth": 0,
            "ticks": ""
           }
          },
          "colorscale": {
           "diverging": [
            [
             0,
             "#8e0152"
            ],
            [
             0.1,
             "#c51b7d"
            ],
            [
             0.2,
             "#de77ae"
            ],
            [
             0.3,
             "#f1b6da"
            ],
            [
             0.4,
             "#fde0ef"
            ],
            [
             0.5,
             "#f7f7f7"
            ],
            [
             0.6,
             "#e6f5d0"
            ],
            [
             0.7,
             "#b8e186"
            ],
            [
             0.8,
             "#7fbc41"
            ],
            [
             0.9,
             "#4d9221"
            ],
            [
             1,
             "#276419"
            ]
           ],
           "sequential": [
            [
             0,
             "#0d0887"
            ],
            [
             0.1111111111111111,
             "#46039f"
            ],
            [
             0.2222222222222222,
             "#7201a8"
            ],
            [
             0.3333333333333333,
             "#9c179e"
            ],
            [
             0.4444444444444444,
             "#bd3786"
            ],
            [
             0.5555555555555556,
             "#d8576b"
            ],
            [
             0.6666666666666666,
             "#ed7953"
            ],
            [
             0.7777777777777778,
             "#fb9f3a"
            ],
            [
             0.8888888888888888,
             "#fdca26"
            ],
            [
             1,
             "#f0f921"
            ]
           ],
           "sequentialminus": [
            [
             0,
             "#0d0887"
            ],
            [
             0.1111111111111111,
             "#46039f"
            ],
            [
             0.2222222222222222,
             "#7201a8"
            ],
            [
             0.3333333333333333,
             "#9c179e"
            ],
            [
             0.4444444444444444,
             "#bd3786"
            ],
            [
             0.5555555555555556,
             "#d8576b"
            ],
            [
             0.6666666666666666,
             "#ed7953"
            ],
            [
             0.7777777777777778,
             "#fb9f3a"
            ],
            [
             0.8888888888888888,
             "#fdca26"
            ],
            [
             1,
             "#f0f921"
            ]
           ]
          },
          "colorway": [
           "#636efa",
           "#EF553B",
           "#00cc96",
           "#ab63fa",
           "#FFA15A",
           "#19d3f3",
           "#FF6692",
           "#B6E880",
           "#FF97FF",
           "#FECB52"
          ],
          "font": {
           "color": "#2a3f5f"
          },
          "geo": {
           "bgcolor": "white",
           "lakecolor": "white",
           "landcolor": "#E5ECF6",
           "showlakes": true,
           "showland": true,
           "subunitcolor": "white"
          },
          "hoverlabel": {
           "align": "left"
          },
          "hovermode": "closest",
          "mapbox": {
           "style": "light"
          },
          "paper_bgcolor": "white",
          "plot_bgcolor": "#E5ECF6",
          "polar": {
           "angularaxis": {
            "gridcolor": "white",
            "linecolor": "white",
            "ticks": ""
           },
           "bgcolor": "#E5ECF6",
           "radialaxis": {
            "gridcolor": "white",
            "linecolor": "white",
            "ticks": ""
           }
          },
          "scene": {
           "xaxis": {
            "backgroundcolor": "#E5ECF6",
            "gridcolor": "white",
            "gridwidth": 2,
            "linecolor": "white",
            "showbackground": true,
            "ticks": "",
            "zerolinecolor": "white"
           },
           "yaxis": {
            "backgroundcolor": "#E5ECF6",
            "gridcolor": "white",
            "gridwidth": 2,
            "linecolor": "white",
            "showbackground": true,
            "ticks": "",
            "zerolinecolor": "white"
           },
           "zaxis": {
            "backgroundcolor": "#E5ECF6",
            "gridcolor": "white",
            "gridwidth": 2,
            "linecolor": "white",
            "showbackground": true,
            "ticks": "",
            "zerolinecolor": "white"
           }
          },
          "shapedefaults": {
           "line": {
            "color": "#2a3f5f"
           }
          },
          "ternary": {
           "aaxis": {
            "gridcolor": "white",
            "linecolor": "white",
            "ticks": ""
           },
           "baxis": {
            "gridcolor": "white",
            "linecolor": "white",
            "ticks": ""
           },
           "bgcolor": "#E5ECF6",
           "caxis": {
            "gridcolor": "white",
            "linecolor": "white",
            "ticks": ""
           }
          },
          "title": {
           "x": 0.05
          },
          "xaxis": {
           "automargin": true,
           "gridcolor": "white",
           "linecolor": "white",
           "ticks": "",
           "title": {
            "standoff": 15
           },
           "zerolinecolor": "white",
           "zerolinewidth": 2
          },
          "yaxis": {
           "automargin": true,
           "gridcolor": "white",
           "linecolor": "white",
           "ticks": "",
           "title": {
            "standoff": 15
           },
           "zerolinecolor": "white",
           "zerolinewidth": 2
          }
         }
        },
        "yaxis": {
         "title": {
          "text": "concentration [M]"
         }
        }
       }
      }
     },
     "metadata": {},
     "output_type": "display_data"
    }
   ],
   "source": [
    "volume_reactor = 60 # L\n",
    "pp=PhreeqPython()#project_root / 'phreeqc_databases_and_definitions' / 'phreeqc.dat')\n",
    "sol_dict = {\n",
    "  'Temp':      20,\n",
    "  'pH':        7.3,\n",
    "  'units':     'mg/kgw',\n",
    "#   'Amm': '3.3 ',  # is removed?\n",
    "  'Ca': '127 ',\n",
    "  'Cl': '32.8 charge',\n",
    "  '[Fe+2]': '0.03', #'11.9 ', # is removed? still 11 in synthetic water...\n",
    "  'K':         \"2 \",\n",
    "  'Mg': '10.0 ',\n",
    "  'Na': '17.9 ',\n",
    "  'P': \"0.98 \",\n",
    "  'Si': '17.15  as SiO3',\n",
    "  'S(6)': '0.002  as SO4',\n",
    "  'Alkalinity': \"354.0 as HCO3 \", # how is this determined, as alkalinity via titration\n",
    "}\n",
    "sol_tank=pp.add_solution(sol_dict)\n",
    "solutions=dict(tank=sol_tank)\n",
    "plotting.createSpeciesPlot(solutions=solutions.values(), labels=solutions.keys(), render_plot=False, )#only_contain_species='F' )\n"
   ]
  },
  {
   "cell_type": "code",
   "execution_count": 37,
   "metadata": {},
   "outputs": [
    {
     "data": {
      "application/vnd.plotly.v1+json": {
       "config": {
        "plotlyServerURL": "https://plot.ly"
       },
       "data": [
        {
         "name": "tank",
         "type": "bar",
         "x": [
          "Anhydrite",
          "Aragonite",
          "CO2(g)",
          "Calcite",
          "Chalcedony",
          "Chrysotile",
          "Dolomite",
          "Fix_pH",
          "Gypsum",
          "H2(g)",
          "H2O(g)",
          "Halite",
          "Hydroxyapatite",
          "O2(g)",
          "Quartz",
          "Sepiolite",
          "Sepiolite(d)",
          "SiO2(a)",
          "Sylvite",
          "Talc",
          "Vaterite"
         ],
         "y": [
          -6.4429766333313285,
          0.23118144391199635,
          -1.8142801930530212,
          0.37861101921473406,
          -0.03670465463394024,
          -7.078228907474493,
          -0.06045916960203357,
          -7.3,
          -6.085234959296324,
          -22.639936181498904,
          -1.6336262218807618,
          -7.43512809425175,
          3.4534602076464624,
          -39.710976389341326,
          0.40820409515285894,
          -4.803734037359716,
          -7.569964115685416,
          -0.8934827545827715,
          -7.926695895034539,
          -3.5198891176757776,
          -0.2012851090472303
         ]
        }
       ],
       "layout": {
        "barmode": "group",
        "template": {
         "data": {
          "bar": [
           {
            "error_x": {
             "color": "#2a3f5f"
            },
            "error_y": {
             "color": "#2a3f5f"
            },
            "marker": {
             "line": {
              "color": "#E5ECF6",
              "width": 0.5
             }
            },
            "type": "bar"
           }
          ],
          "barpolar": [
           {
            "marker": {
             "line": {
              "color": "#E5ECF6",
              "width": 0.5
             }
            },
            "type": "barpolar"
           }
          ],
          "carpet": [
           {
            "aaxis": {
             "endlinecolor": "#2a3f5f",
             "gridcolor": "white",
             "linecolor": "white",
             "minorgridcolor": "white",
             "startlinecolor": "#2a3f5f"
            },
            "baxis": {
             "endlinecolor": "#2a3f5f",
             "gridcolor": "white",
             "linecolor": "white",
             "minorgridcolor": "white",
             "startlinecolor": "#2a3f5f"
            },
            "type": "carpet"
           }
          ],
          "choropleth": [
           {
            "colorbar": {
             "outlinewidth": 0,
             "ticks": ""
            },
            "type": "choropleth"
           }
          ],
          "contour": [
           {
            "colorbar": {
             "outlinewidth": 0,
             "ticks": ""
            },
            "colorscale": [
             [
              0,
              "#0d0887"
             ],
             [
              0.1111111111111111,
              "#46039f"
             ],
             [
              0.2222222222222222,
              "#7201a8"
             ],
             [
              0.3333333333333333,
              "#9c179e"
             ],
             [
              0.4444444444444444,
              "#bd3786"
             ],
             [
              0.5555555555555556,
              "#d8576b"
             ],
             [
              0.6666666666666666,
              "#ed7953"
             ],
             [
              0.7777777777777778,
              "#fb9f3a"
             ],
             [
              0.8888888888888888,
              "#fdca26"
             ],
             [
              1,
              "#f0f921"
             ]
            ],
            "type": "contour"
           }
          ],
          "contourcarpet": [
           {
            "colorbar": {
             "outlinewidth": 0,
             "ticks": ""
            },
            "type": "contourcarpet"
           }
          ],
          "heatmap": [
           {
            "colorbar": {
             "outlinewidth": 0,
             "ticks": ""
            },
            "colorscale": [
             [
              0,
              "#0d0887"
             ],
             [
              0.1111111111111111,
              "#46039f"
             ],
             [
              0.2222222222222222,
              "#7201a8"
             ],
             [
              0.3333333333333333,
              "#9c179e"
             ],
             [
              0.4444444444444444,
              "#bd3786"
             ],
             [
              0.5555555555555556,
              "#d8576b"
             ],
             [
              0.6666666666666666,
              "#ed7953"
             ],
             [
              0.7777777777777778,
              "#fb9f3a"
             ],
             [
              0.8888888888888888,
              "#fdca26"
             ],
             [
              1,
              "#f0f921"
             ]
            ],
            "type": "heatmap"
           }
          ],
          "heatmapgl": [
           {
            "colorbar": {
             "outlinewidth": 0,
             "ticks": ""
            },
            "colorscale": [
             [
              0,
              "#0d0887"
             ],
             [
              0.1111111111111111,
              "#46039f"
             ],
             [
              0.2222222222222222,
              "#7201a8"
             ],
             [
              0.3333333333333333,
              "#9c179e"
             ],
             [
              0.4444444444444444,
              "#bd3786"
             ],
             [
              0.5555555555555556,
              "#d8576b"
             ],
             [
              0.6666666666666666,
              "#ed7953"
             ],
             [
              0.7777777777777778,
              "#fb9f3a"
             ],
             [
              0.8888888888888888,
              "#fdca26"
             ],
             [
              1,
              "#f0f921"
             ]
            ],
            "type": "heatmapgl"
           }
          ],
          "histogram": [
           {
            "marker": {
             "colorbar": {
              "outlinewidth": 0,
              "ticks": ""
             }
            },
            "type": "histogram"
           }
          ],
          "histogram2d": [
           {
            "colorbar": {
             "outlinewidth": 0,
             "ticks": ""
            },
            "colorscale": [
             [
              0,
              "#0d0887"
             ],
             [
              0.1111111111111111,
              "#46039f"
             ],
             [
              0.2222222222222222,
              "#7201a8"
             ],
             [
              0.3333333333333333,
              "#9c179e"
             ],
             [
              0.4444444444444444,
              "#bd3786"
             ],
             [
              0.5555555555555556,
              "#d8576b"
             ],
             [
              0.6666666666666666,
              "#ed7953"
             ],
             [
              0.7777777777777778,
              "#fb9f3a"
             ],
             [
              0.8888888888888888,
              "#fdca26"
             ],
             [
              1,
              "#f0f921"
             ]
            ],
            "type": "histogram2d"
           }
          ],
          "histogram2dcontour": [
           {
            "colorbar": {
             "outlinewidth": 0,
             "ticks": ""
            },
            "colorscale": [
             [
              0,
              "#0d0887"
             ],
             [
              0.1111111111111111,
              "#46039f"
             ],
             [
              0.2222222222222222,
              "#7201a8"
             ],
             [
              0.3333333333333333,
              "#9c179e"
             ],
             [
              0.4444444444444444,
              "#bd3786"
             ],
             [
              0.5555555555555556,
              "#d8576b"
             ],
             [
              0.6666666666666666,
              "#ed7953"
             ],
             [
              0.7777777777777778,
              "#fb9f3a"
             ],
             [
              0.8888888888888888,
              "#fdca26"
             ],
             [
              1,
              "#f0f921"
             ]
            ],
            "type": "histogram2dcontour"
           }
          ],
          "mesh3d": [
           {
            "colorbar": {
             "outlinewidth": 0,
             "ticks": ""
            },
            "type": "mesh3d"
           }
          ],
          "parcoords": [
           {
            "line": {
             "colorbar": {
              "outlinewidth": 0,
              "ticks": ""
             }
            },
            "type": "parcoords"
           }
          ],
          "pie": [
           {
            "automargin": true,
            "type": "pie"
           }
          ],
          "scatter": [
           {
            "marker": {
             "colorbar": {
              "outlinewidth": 0,
              "ticks": ""
             }
            },
            "type": "scatter"
           }
          ],
          "scatter3d": [
           {
            "line": {
             "colorbar": {
              "outlinewidth": 0,
              "ticks": ""
             }
            },
            "marker": {
             "colorbar": {
              "outlinewidth": 0,
              "ticks": ""
             }
            },
            "type": "scatter3d"
           }
          ],
          "scattercarpet": [
           {
            "marker": {
             "colorbar": {
              "outlinewidth": 0,
              "ticks": ""
             }
            },
            "type": "scattercarpet"
           }
          ],
          "scattergeo": [
           {
            "marker": {
             "colorbar": {
              "outlinewidth": 0,
              "ticks": ""
             }
            },
            "type": "scattergeo"
           }
          ],
          "scattergl": [
           {
            "marker": {
             "colorbar": {
              "outlinewidth": 0,
              "ticks": ""
             }
            },
            "type": "scattergl"
           }
          ],
          "scattermapbox": [
           {
            "marker": {
             "colorbar": {
              "outlinewidth": 0,
              "ticks": ""
             }
            },
            "type": "scattermapbox"
           }
          ],
          "scatterpolar": [
           {
            "marker": {
             "colorbar": {
              "outlinewidth": 0,
              "ticks": ""
             }
            },
            "type": "scatterpolar"
           }
          ],
          "scatterpolargl": [
           {
            "marker": {
             "colorbar": {
              "outlinewidth": 0,
              "ticks": ""
             }
            },
            "type": "scatterpolargl"
           }
          ],
          "scatterternary": [
           {
            "marker": {
             "colorbar": {
              "outlinewidth": 0,
              "ticks": ""
             }
            },
            "type": "scatterternary"
           }
          ],
          "surface": [
           {
            "colorbar": {
             "outlinewidth": 0,
             "ticks": ""
            },
            "colorscale": [
             [
              0,
              "#0d0887"
             ],
             [
              0.1111111111111111,
              "#46039f"
             ],
             [
              0.2222222222222222,
              "#7201a8"
             ],
             [
              0.3333333333333333,
              "#9c179e"
             ],
             [
              0.4444444444444444,
              "#bd3786"
             ],
             [
              0.5555555555555556,
              "#d8576b"
             ],
             [
              0.6666666666666666,
              "#ed7953"
             ],
             [
              0.7777777777777778,
              "#fb9f3a"
             ],
             [
              0.8888888888888888,
              "#fdca26"
             ],
             [
              1,
              "#f0f921"
             ]
            ],
            "type": "surface"
           }
          ],
          "table": [
           {
            "cells": {
             "fill": {
              "color": "#EBF0F8"
             },
             "line": {
              "color": "white"
             }
            },
            "header": {
             "fill": {
              "color": "#C8D4E3"
             },
             "line": {
              "color": "white"
             }
            },
            "type": "table"
           }
          ]
         },
         "layout": {
          "annotationdefaults": {
           "arrowcolor": "#2a3f5f",
           "arrowhead": 0,
           "arrowwidth": 1
          },
          "coloraxis": {
           "colorbar": {
            "outlinewidth": 0,
            "ticks": ""
           }
          },
          "colorscale": {
           "diverging": [
            [
             0,
             "#8e0152"
            ],
            [
             0.1,
             "#c51b7d"
            ],
            [
             0.2,
             "#de77ae"
            ],
            [
             0.3,
             "#f1b6da"
            ],
            [
             0.4,
             "#fde0ef"
            ],
            [
             0.5,
             "#f7f7f7"
            ],
            [
             0.6,
             "#e6f5d0"
            ],
            [
             0.7,
             "#b8e186"
            ],
            [
             0.8,
             "#7fbc41"
            ],
            [
             0.9,
             "#4d9221"
            ],
            [
             1,
             "#276419"
            ]
           ],
           "sequential": [
            [
             0,
             "#0d0887"
            ],
            [
             0.1111111111111111,
             "#46039f"
            ],
            [
             0.2222222222222222,
             "#7201a8"
            ],
            [
             0.3333333333333333,
             "#9c179e"
            ],
            [
             0.4444444444444444,
             "#bd3786"
            ],
            [
             0.5555555555555556,
             "#d8576b"
            ],
            [
             0.6666666666666666,
             "#ed7953"
            ],
            [
             0.7777777777777778,
             "#fb9f3a"
            ],
            [
             0.8888888888888888,
             "#fdca26"
            ],
            [
             1,
             "#f0f921"
            ]
           ],
           "sequentialminus": [
            [
             0,
             "#0d0887"
            ],
            [
             0.1111111111111111,
             "#46039f"
            ],
            [
             0.2222222222222222,
             "#7201a8"
            ],
            [
             0.3333333333333333,
             "#9c179e"
            ],
            [
             0.4444444444444444,
             "#bd3786"
            ],
            [
             0.5555555555555556,
             "#d8576b"
            ],
            [
             0.6666666666666666,
             "#ed7953"
            ],
            [
             0.7777777777777778,
             "#fb9f3a"
            ],
            [
             0.8888888888888888,
             "#fdca26"
            ],
            [
             1,
             "#f0f921"
            ]
           ]
          },
          "colorway": [
           "#636efa",
           "#EF553B",
           "#00cc96",
           "#ab63fa",
           "#FFA15A",
           "#19d3f3",
           "#FF6692",
           "#B6E880",
           "#FF97FF",
           "#FECB52"
          ],
          "font": {
           "color": "#2a3f5f"
          },
          "geo": {
           "bgcolor": "white",
           "lakecolor": "white",
           "landcolor": "#E5ECF6",
           "showlakes": true,
           "showland": true,
           "subunitcolor": "white"
          },
          "hoverlabel": {
           "align": "left"
          },
          "hovermode": "closest",
          "mapbox": {
           "style": "light"
          },
          "paper_bgcolor": "white",
          "plot_bgcolor": "#E5ECF6",
          "polar": {
           "angularaxis": {
            "gridcolor": "white",
            "linecolor": "white",
            "ticks": ""
           },
           "bgcolor": "#E5ECF6",
           "radialaxis": {
            "gridcolor": "white",
            "linecolor": "white",
            "ticks": ""
           }
          },
          "scene": {
           "xaxis": {
            "backgroundcolor": "#E5ECF6",
            "gridcolor": "white",
            "gridwidth": 2,
            "linecolor": "white",
            "showbackground": true,
            "ticks": "",
            "zerolinecolor": "white"
           },
           "yaxis": {
            "backgroundcolor": "#E5ECF6",
            "gridcolor": "white",
            "gridwidth": 2,
            "linecolor": "white",
            "showbackground": true,
            "ticks": "",
            "zerolinecolor": "white"
           },
           "zaxis": {
            "backgroundcolor": "#E5ECF6",
            "gridcolor": "white",
            "gridwidth": 2,
            "linecolor": "white",
            "showbackground": true,
            "ticks": "",
            "zerolinecolor": "white"
           }
          },
          "shapedefaults": {
           "line": {
            "color": "#2a3f5f"
           }
          },
          "ternary": {
           "aaxis": {
            "gridcolor": "white",
            "linecolor": "white",
            "ticks": ""
           },
           "baxis": {
            "gridcolor": "white",
            "linecolor": "white",
            "ticks": ""
           },
           "bgcolor": "#E5ECF6",
           "caxis": {
            "gridcolor": "white",
            "linecolor": "white",
            "ticks": ""
           }
          },
          "title": {
           "x": 0.05
          },
          "xaxis": {
           "automargin": true,
           "gridcolor": "white",
           "linecolor": "white",
           "ticks": "",
           "title": {
            "standoff": 15
           },
           "zerolinecolor": "white",
           "zerolinewidth": 2
          },
          "yaxis": {
           "automargin": true,
           "gridcolor": "white",
           "linecolor": "white",
           "ticks": "",
           "title": {
            "standoff": 15
           },
           "zerolinecolor": "white",
           "zerolinewidth": 2
          }
         }
        },
        "yaxis": {
         "title": {
          "text": "Saturation Index [-]"
         }
        }
       }
      }
     },
     "metadata": {},
     "output_type": "display_data"
    }
   ],
   "source": [
    "plotting.createSIPlot(solutions=[sol_tank], labels=['tank'], render_plot=False, )#only_contain_species='F' )\n"
   ]
  },
  {
   "cell_type": "markdown",
   "metadata": {},
   "source": [
    " ## Check for charge balance (crude way)\n",
    " increase in Cl concentration to get charge balanced solution. Should be small"
   ]
  },
  {
   "cell_type": "code",
   "execution_count": 38,
   "metadata": {},
   "outputs": [
    {
     "data": {
      "text/plain": [
       "-57.1229488712179"
      ]
     },
     "execution_count": 38,
     "metadata": {},
     "output_type": "execute_result"
    }
   ],
   "source": [
    "sol_charge_bal_dict = sol_dict.copy()\n",
    "sol_charge_bal_dict['Cl'] = f\"{sol_dict['Cl']}\".replace('charge', '')\n",
    "sol_charge_bal = pp.add_solution(sol_charge_bal_dict)\n",
    "100 * (sol_charge_bal.elements['Cl'] - sol_tank.elements['Cl']) /sol_tank.elements['Cl'] #Als negatief, dan ondermaats anionen (in%)"
   ]
  },
  {
   "cell_type": "code",
   "execution_count": 39,
   "metadata": {},
   "outputs": [
    {
     "data": {
      "text/plain": [
       "[0.0009252468265162194, 0.0021579068573004748]"
      ]
     },
     "execution_count": 39,
     "metadata": {},
     "output_type": "execute_result"
    }
   ],
   "source": [
    "[sol_charge_bal.elements['Cl'], sol_tank.elements['Cl']]"
   ]
  },
  {
   "cell_type": "markdown",
   "metadata": {},
   "source": [
    "# Solution properties after lowering pH and equilibrate with Calcite, CO2"
   ]
  },
  {
   "cell_type": "markdown",
   "metadata": {},
   "source": [
    "First pH is lowered so that SI of calcite become negative for 20% gas mixture, then equilibrate with co2 and calcite"
   ]
  },
  {
   "cell_type": "code",
   "execution_count": 40,
   "metadata": {},
   "outputs": [
    {
     "data": {
      "text/html": [
       "<div>\n",
       "<style scoped>\n",
       "    .dataframe tbody tr th:only-of-type {\n",
       "        vertical-align: middle;\n",
       "    }\n",
       "\n",
       "    .dataframe tbody tr th {\n",
       "        vertical-align: top;\n",
       "    }\n",
       "\n",
       "    .dataframe thead th {\n",
       "        text-align: right;\n",
       "    }\n",
       "</style>\n",
       "<table border=\"1\" class=\"dataframe\">\n",
       "  <thead>\n",
       "    <tr style=\"text-align: right;\">\n",
       "      <th></th>\n",
       "      <th>tank</th>\n",
       "      <th>10.0% air</th>\n",
       "      <th>20.0% air</th>\n",
       "      <th>30.0% air</th>\n",
       "      <th>100.0% air</th>\n",
       "    </tr>\n",
       "  </thead>\n",
       "  <tbody>\n",
       "    <tr>\n",
       "      <th>SI</th>\n",
       "      <td>0.378611</td>\n",
       "      <td>0.000000</td>\n",
       "      <td>-0.223949</td>\n",
       "      <td>-0.396947</td>\n",
       "      <td>-0.913151</td>\n",
       "    </tr>\n",
       "    <tr>\n",
       "      <th>pH</th>\n",
       "      <td>7.300000</td>\n",
       "      <td>7.406434</td>\n",
       "      <td>7.139658</td>\n",
       "      <td>6.965000</td>\n",
       "      <td>6.445242</td>\n",
       "    </tr>\n",
       "    <tr>\n",
       "      <th>HCO3 [mg/L]</th>\n",
       "      <td>340.943793</td>\n",
       "      <td>110.786425</td>\n",
       "      <td>119.974439</td>\n",
       "      <td>120.370197</td>\n",
       "      <td>121.220805</td>\n",
       "    </tr>\n",
       "    <tr>\n",
       "      <th>CO2[mg/L]</th>\n",
       "      <td>26.699626</td>\n",
       "      <td>6.790001</td>\n",
       "      <td>13.579002</td>\n",
       "      <td>20.368016</td>\n",
       "      <td>67.882422</td>\n",
       "    </tr>\n",
       "    <tr>\n",
       "      <th>Ca[mg/L]</th>\n",
       "      <td>132.762679</td>\n",
       "      <td>133.750167</td>\n",
       "      <td>136.875479</td>\n",
       "      <td>136.960503</td>\n",
       "      <td>137.142554</td>\n",
       "    </tr>\n",
       "    <tr>\n",
       "      <th>IS</th>\n",
       "      <td>0.011222</td>\n",
       "      <td>0.011223</td>\n",
       "      <td>0.011438</td>\n",
       "      <td>0.011443</td>\n",
       "      <td>0.011453</td>\n",
       "    </tr>\n",
       "  </tbody>\n",
       "</table>\n",
       "</div>"
      ],
      "text/plain": [
       "                   tank   10.0% air   20.0% air   30.0% air  100.0% air\n",
       "SI             0.378611    0.000000   -0.223949   -0.396947   -0.913151\n",
       "pH             7.300000    7.406434    7.139658    6.965000    6.445242\n",
       "HCO3 [mg/L]  340.943793  110.786425  119.974439  120.370197  121.220805\n",
       "CO2[mg/L]     26.699626    6.790001   13.579002   20.368016   67.882422\n",
       "Ca[mg/L]     132.762679  133.750167  136.875479  136.960503  137.142554\n",
       "IS             0.011222    0.011223    0.011438    0.011443    0.011453"
      ]
     },
     "execution_count": 40,
     "metadata": {},
     "output_type": "execute_result"
    }
   ],
   "source": [
    "sol_eq_co2 = {'tank': sol_tank}\n",
    "start_ph = 6\n",
    "# sol_eq_co2.saturate(['Calcite', 'CO2(g)'], [0, -3])\n",
    "for fracion in [0.10, 0.20, 0.30, 1.00]:\n",
    "    key = f'{fracion*100}% air'\n",
    "    sol_eq_co2[key] = sol_tank.copy()\n",
    "    sol_eq_co2[key].change_ph(start_ph)\n",
    "    sol_eq_co2[key].equalize(['Calcite', 'CO2(g)', 'O2(g)'],\n",
    "                       [0, np.log10(fracion*0.039), np.log10(fracion*0.2)],\n",
    "                       [0, 10, 10])\n",
    "# plotting.createSIPlot(solutions= list(sol_eq_co2.values()),\n",
    "#                            labels= list(sol_eq_co2.keys()),\n",
    "#                            render_plot=False,\n",
    "#                            min_concentration=-8,\n",
    "#                            # only_contain_species='F'\n",
    "#                            )\n",
    "pd.DataFrame({k: [v.si('Calcite'), v.pH, v.total('HCO3-', units='mmol')*mw_hco3, \n",
    "                  v.total('CO2', units='mmol')*mw_co2, v.total('Ca+2', units='mmol')*mw_ca, \n",
    "                  v.I]\n",
    "             for k, v in sol_eq_co2.items()},\n",
    "             index=['SI', 'pH', 'HCO3 [mg/L]','CO2[mg/L]', 'Ca[mg/L]', 'IS'])"
   ]
  },
  {
   "cell_type": "markdown",
   "metadata": {},
   "source": [
    "## Determine how much inorganic carbon we need to get alkalinity of 354 mg HCO3/L at pH=7.2"
   ]
  },
  {
   "cell_type": "markdown",
   "metadata": {},
   "source": [
    "do it the dumb and crude way starting at 20% air and add hco3 until we reach hco3 we require"
   ]
  },
  {
   "cell_type": "code",
   "execution_count": 52,
   "metadata": {},
   "outputs": [
    {
     "name": "stdout",
     "output_type": "stream",
     "text": [
      "pH=7.20, CO2=33.53 mg/L HCO3=354.95 mg/L\n",
      "total dose of nahco3 is 358 mg/L\n",
      "total amount of inorganic carbon is 6.60 mmol/L\n"
     ]
    }
   ],
   "source": [
    "sol = sol_eq_co2['20.0% air'].copy()\n",
    "nahco3_dose = 2 # mg/L\n",
    "total_nahco3_dose = 0 # mg/L\n",
    "while sol.total('HCO3', units='mmol') * mw_hco3 < 354:\n",
    "    sol.add('NaHCO3', nahco3_dose / mw_nahco3, units='mmol')\n",
    "    sol.change_ph(7.2)\n",
    "    total_nahco3_dose +=nahco3_dose\n",
    "print(f\"pH={sol.pH:.2f}, CO2={sol.total('CO2', units='mmol') * mw_co2:.2f} mg/L HCO3={sol.total('HCO3', units='mmol') * mw_hco3:.2f} mg/L\")\n",
    "print(f\"total dose of nahco3 is {total_nahco3_dose} mg/L\")\n",
    "print(f\"total amount of inorganic carbon is {sol.elements['C(4)']*1000:.2f} mmol/L\")\n",
    "required_inorganic_c = sol.elements['C(4)']  # mol/L"
   ]
  },
  {
   "cell_type": "markdown",
   "metadata": {},
   "source": [
    "## Determine how much NaHCO3 and NaOH to add for each gas mixture and"
   ]
  },
  {
   "cell_type": "markdown",
   "metadata": {},
   "source": [
    "We require 5.42 mmol/L of inorganic C (see above)"
   ]
  },
  {
   "cell_type": "code",
   "execution_count": 49,
   "metadata": {},
   "outputs": [
    {
     "name": "stdout",
     "output_type": "stream",
     "text": [
      "total inorganic carbon 6.60 mmol/L\n",
      "20.0% air: change in Na is 0.00 mmol/L, change in Cl is 0.34 mmol/L)\n",
      "total inorganic carbon 6.60 mmol/L\n",
      "100.0% air: change in Na is 1.71 mmol/L, change in Cl is -0.00 mmol/L)\n"
     ]
    },
    {
     "data": {
      "text/html": [
       "<div>\n",
       "<style scoped>\n",
       "    .dataframe tbody tr th:only-of-type {\n",
       "        vertical-align: middle;\n",
       "    }\n",
       "\n",
       "    .dataframe tbody tr th {\n",
       "        vertical-align: top;\n",
       "    }\n",
       "\n",
       "    .dataframe thead th {\n",
       "        text-align: right;\n",
       "    }\n",
       "</style>\n",
       "<table border=\"1\" class=\"dataframe\">\n",
       "  <thead>\n",
       "    <tr style=\"text-align: right;\">\n",
       "      <th></th>\n",
       "      <th>tank</th>\n",
       "      <th>20.0% air</th>\n",
       "      <th>100.0% air</th>\n",
       "    </tr>\n",
       "  </thead>\n",
       "  <tbody>\n",
       "    <tr>\n",
       "      <th>SI</th>\n",
       "      <td>0.378611</td>\n",
       "      <td>0.253491</td>\n",
       "      <td>0.250585</td>\n",
       "    </tr>\n",
       "    <tr>\n",
       "      <th>pH</th>\n",
       "      <td>7.300000</td>\n",
       "      <td>7.200000</td>\n",
       "      <td>7.200000</td>\n",
       "    </tr>\n",
       "    <tr>\n",
       "      <th>HCO3-</th>\n",
       "      <td>340.943793</td>\n",
       "      <td>345.573233</td>\n",
       "      <td>345.615397</td>\n",
       "    </tr>\n",
       "    <tr>\n",
       "      <th>CO2</th>\n",
       "      <td>26.699626</td>\n",
       "      <td>33.537004</td>\n",
       "      <td>33.490833</td>\n",
       "    </tr>\n",
       "    <tr>\n",
       "      <th>Ca</th>\n",
       "      <td>132.762679</td>\n",
       "      <td>133.197696</td>\n",
       "      <td>133.232056</td>\n",
       "    </tr>\n",
       "    <tr>\n",
       "      <th>IS</th>\n",
       "      <td>0.011222</td>\n",
       "      <td>0.015497</td>\n",
       "      <td>0.015952</td>\n",
       "    </tr>\n",
       "  </tbody>\n",
       "</table>\n",
       "</div>"
      ],
      "text/plain": [
       "             tank   20.0% air  100.0% air\n",
       "SI       0.378611    0.253491    0.250585\n",
       "pH       7.300000    7.200000    7.200000\n",
       "HCO3-  340.943793  345.573233  345.615397\n",
       "CO2     26.699626   33.537004   33.490833\n",
       "Ca     132.762679  133.197696  133.232056\n",
       "IS       0.011222    0.015497    0.015952"
      ]
     },
     "execution_count": 49,
     "metadata": {},
     "output_type": "execute_result"
    }
   ],
   "source": [
    "\n",
    "sol_eq_co2_then_ph72 = {}\n",
    "add_nahco3={}\n",
    "add_naoh={}\n",
    "add_hcl={}\n",
    "add = {}\n",
    "target_ph = 7.2\n",
    "\n",
    "measured_ph = {'20.0% air':7, '100.0% air':6}\n",
    "# sol_eq_co2_then_ph72.saturate(['Calcite', 'CO2(g)'], [0, -3])\n",
    "for fraction in [0.20, 1.00]:\n",
    "    key = f'{fraction*100}% air'\n",
    "    _sol = sol_eq_co2[key].copy()\n",
    "    _sol.change_ph(measured_ph[key])\n",
    "    sol_eq_co2_then_ph72[key] = _sol\n",
    "    inorganic_c = _sol.elements['C(4)'] # mol/L\n",
    "    required_addition_of_inorganic_c = required_inorganic_c - inorganic_c\n",
    "    _sol.add('NaHCO3', required_addition_of_inorganic_c, 'mol')\n",
    "    print(f\"total inorganic carbon {_sol.elements['C(4)'] * 1000:.2f} mmol/L\")\n",
    "    na_before = _sol.elements['Na']\n",
    "    cl_before = _sol.elements['Cl']\n",
    "    _sol.change_ph(target_ph)\n",
    "    na_after = _sol.elements['Na']\n",
    "    cl_after = _sol.elements['Cl']\n",
    "    add_nahco3[key] = required_addition_of_inorganic_c * 1000 * mw_nahco3\n",
    "    add_naoh[key] = (na_after-na_before) * 1000 # mmol/L\n",
    "    add_hcl[key] = (cl_after-cl_before) * 1000 # mmol/L\n",
    "    add['naoh'] = add_naoh\n",
    "    add['hcl'] = add_hcl\n",
    "    add['nahco3 [mg/L]'] = add_nahco3\n",
    "    \n",
    "    print(f\"{key}: change in Na is {(na_after-na_before)*1000:.2f} mmol/L, change in Cl is {(cl_after-cl_before)*1000:.2f} mmol/L)\")\n",
    "    # sol_eq_co2_then_ph72[key].equalize(['Calcite', 'CO2(g)', 'O2(g)'],\n",
    "    #                    [0, np.log10(fracion*0.039), np.log10(fracion*0.2)],\n",
    "    #                    [0, 10, 10])\n",
    "# plotting.createSIPlot(solutions=[sol_tank] + list(sol_eq_co2_then_ph72.values()),\n",
    "#                            labels=['tank'] + list(sol_eq_co2_then_ph72.keys()),\n",
    "#                            render_plot=False,\n",
    "#                            min_concentration=-8,\n",
    "#                            # only_contain_species='F'\n",
    "#                            )\n",
    "pd.DataFrame({k: [v.si('Calcite'), v.pH, v.total('HCO3-', units='mmol')*mw_hco3, \n",
    "                  v.total('CO2', units='mmol')*mw_co2, v.total('Ca+2', units='mmol')*mw_ca, \n",
    "                  v.I]\n",
    "             for k, v in {'tank': sol_tank, **sol_eq_co2_then_ph72}.items()},\n",
    "             index=['SI', 'pH', 'HCO3-','CO2', 'Ca', 'IS'])"
   ]
  },
  {
   "cell_type": "markdown",
   "metadata": {},
   "source": [
    "### How much NaOH, HCl, NaHCO3 is added?"
   ]
  },
  {
   "cell_type": "code",
   "execution_count": 50,
   "metadata": {},
   "outputs": [
    {
     "data": {
      "text/html": [
       "<div>\n",
       "<style scoped>\n",
       "    .dataframe tbody tr th:only-of-type {\n",
       "        vertical-align: middle;\n",
       "    }\n",
       "\n",
       "    .dataframe tbody tr th {\n",
       "        vertical-align: top;\n",
       "    }\n",
       "\n",
       "    .dataframe thead th {\n",
       "        text-align: right;\n",
       "    }\n",
       "</style>\n",
       "<table border=\"1\" class=\"dataframe\">\n",
       "  <thead>\n",
       "    <tr style=\"text-align: right;\">\n",
       "      <th></th>\n",
       "      <th>naoh</th>\n",
       "      <th>hcl</th>\n",
       "      <th>nahco3 [mg/L]</th>\n",
       "    </tr>\n",
       "  </thead>\n",
       "  <tbody>\n",
       "    <tr>\n",
       "      <th>20.0% air</th>\n",
       "      <td>2.602085e-15</td>\n",
       "      <td>3.403063e-01</td>\n",
       "      <td>358.000010</td>\n",
       "    </tr>\n",
       "    <tr>\n",
       "      <th>100.0% air</th>\n",
       "      <td>1.705026e+00</td>\n",
       "      <td>-5.204170e-15</td>\n",
       "      <td>252.909782</td>\n",
       "    </tr>\n",
       "  </tbody>\n",
       "</table>\n",
       "</div>"
      ],
      "text/plain": [
       "                    naoh           hcl  nahco3 [mg/L]\n",
       "20.0% air   2.602085e-15  3.403063e-01     358.000010\n",
       "100.0% air  1.705026e+00 -5.204170e-15     252.909782"
      ]
     },
     "execution_count": 50,
     "metadata": {},
     "output_type": "execute_result"
    }
   ],
   "source": [
    "pd.DataFrame(add) #HCl en NaOH in mmol/L"
   ]
  },
  {
   "cell_type": "code",
   "execution_count": null,
   "metadata": {},
   "outputs": [],
   "source": []
  },
  {
   "cell_type": "markdown",
   "metadata": {},
   "source": [
    "\n",
    "# How much do we need to add to water with actually measured pH, Ca and alkalinity?\n",
    "(assuming organic carbon has no influence on alkalinity)"
   ]
  },
  {
   "cell_type": "code",
   "execution_count": 59,
   "metadata": {},
   "outputs": [
    {
     "name": "stdout",
     "output_type": "stream",
     "text": [
      "total inorganic carbon 6.60 mmol/L\n",
      "1 L: change in Na is 0.00 mmol/L, \n",
      "change in Cl is 0.58 mmol/L)\n",
      "Final IS is 0.01671011554212677\n",
      "Final pH is 7.2\n",
      "Final HCO3 is 345.50251839638355 mg/L\n"
     ]
    },
    {
     "data": {
      "text/html": [
       "<div>\n",
       "<style scoped>\n",
       "    .dataframe tbody tr th:only-of-type {\n",
       "        vertical-align: middle;\n",
       "    }\n",
       "\n",
       "    .dataframe tbody tr th {\n",
       "        vertical-align: top;\n",
       "    }\n",
       "\n",
       "    .dataframe thead th {\n",
       "        text-align: right;\n",
       "    }\n",
       "</style>\n",
       "<table border=\"1\" class=\"dataframe\">\n",
       "  <thead>\n",
       "    <tr style=\"text-align: right;\">\n",
       "      <th></th>\n",
       "      <th>naoh [mmol]</th>\n",
       "      <th>hcl [mmol</th>\n",
       "      <th>nahco3 [mg]</th>\n",
       "    </tr>\n",
       "  </thead>\n",
       "  <tbody>\n",
       "    <tr>\n",
       "      <th>1 L</th>\n",
       "      <td>8.326673e-14</td>\n",
       "      <td>0.584747</td>\n",
       "      <td>435.194725</td>\n",
       "    </tr>\n",
       "    <tr>\n",
       "      <th>60.0 L</th>\n",
       "      <td>4.996004e-12</td>\n",
       "      <td>35.084838</td>\n",
       "      <td>26111.683485</td>\n",
       "    </tr>\n",
       "  </tbody>\n",
       "</table>\n",
       "</div>"
      ],
      "text/plain": [
       "         naoh [mmol]  hcl [mmol   nahco3 [mg]\n",
       "1 L     8.326673e-14   0.584747    435.194725\n",
       "60.0 L  4.996004e-12  35.084838  26111.683485"
      ]
     },
     "execution_count": 59,
     "metadata": {},
     "output_type": "execute_result"
    }
   ],
   "source": [
    "\n",
    "\n",
    "sol_eq_co2_then_ph72 = {}\n",
    "add_nahco3={}\n",
    "add_naoh={}\n",
    "add_hcl={}\n",
    "add = {}\n",
    "target_ph = 7.2\n",
    "\n",
    "sol_dict_measured = sol_dict.copy()\n",
    "sol_dict_measured['pH'] =7.21\n",
    "sol_dict_measured['Ca'] =131 # mg/L\n",
    "sol_dict_measured['Alkalinity'] =f'{1.22 * 64} mg/kgw as HCO3' # mg/L (1.2 CaCO3 is alkalinity in HCO3)\n",
    "\n",
    "\n",
    "key = '1 L'\n",
    "_sol = pp.add_solution(sol_dict_measured)\n",
    "inorganic_c = _sol.elements['C(4)'] # mol/L\n",
    "required_addition_of_inorganic_c = required_inorganic_c - inorganic_c\n",
    "_sol.add('NaHCO3', required_addition_of_inorganic_c, 'mol')\n",
    "print(f\"total inorganic carbon {_sol.elements['C(4)'] * 1000:.2f} mmol/L\")\n",
    "na_before = _sol.elements['Na']\n",
    "cl_before = _sol.elements['Cl']\n",
    "_sol.change_ph(target_ph)\n",
    "na_after = _sol.elements['Na']\n",
    "cl_after = _sol.elements['Cl']\n",
    "add_nahco3[key] = required_addition_of_inorganic_c * 1000 * mw_nahco3\n",
    "add_naoh[key] = (na_after-na_before) * 1000 # mmol/L\n",
    "add_hcl[key] = (cl_after-cl_before) * 1000 # mmol/L\n",
    "add['naoh [mmol]'] = add_naoh\n",
    "add['hcl [mmol'] = add_hcl\n",
    "add['nahco3 [mg]'] = add_nahco3\n",
    "\n",
    "print(f\"{key}: change in Na is {(na_after-na_before)*1000:.2f} mmol/L, \")\n",
    "print(f\"change in Cl is {(cl_after-cl_before)*1000:.2f} mmol/L)\",)\n",
    "print(f\"Final IS is {_sol.I}\")\n",
    "print(f\"Final pH is {_sol.pH}\")\n",
    "print(f\"Final HCO3 is {_sol.total('HCO3-', units='mmol')*mw_hco3} mg/L\")\n",
    "\n",
    "key=f'{volume_reactor:.1f} L'\n",
    "add_nahco3[key] = volume_reactor * required_addition_of_inorganic_c * 1000 * mw_nahco3\n",
    "add_naoh[key] = volume_reactor * (na_after-na_before) * 1000 # mmol/L\n",
    "add_hcl[key] = volume_reactor * (cl_after-cl_before) * 1000 # mmol/L\n",
    "add[f'naoh [mmol]'] = add_naoh\n",
    "add[f'hcl [mmol'] = add_hcl\n",
    "add[f'nahco3 [mg]'] = add_nahco3\n",
    "\n",
    "    # sol_eq_co2_then_ph72[key].equalize(['Calcite', 'CO2(g)', 'O2(g)'],\n",
    "    #                    [0, np.log10(fracion*0.039), np.log10(fracion*0.2)],\n",
    "    #                    [0, 10, 10])\n",
    "# plotting.createSIPlot(solutions=[sol_tank] + list(sol_eq_co2_then_ph72.values()),\n",
    "#                            labels=['tank'] + list(sol_eq_co2_then_ph72.keys()),\n",
    "#                            render_plot=False,\n",
    "#                            min_concentration=-8,\n",
    "#                            # only_contain_species='F'\n",
    "#                            )\n",
    "# pd.DataFrame({k: [v.si('Calcite'), v.pH, v.total('HCO3-', units='mmol')*mw_hco3, \n",
    "#                   v.total('CO2', units='mmol')*mw_co2, v.total('Ca+2', units='mmol')*mw_ca, \n",
    "#                   v.I]\n",
    "#              for k, v in {'tank': sol_tank, **sol_eq_co2_then_ph72}.items()},\n",
    "#              index=['SI', 'pH', 'HCO3-','CO2', 'Ca', 'IS'])\n",
    "\n",
    "pd.DataFrame(add) #HCl en NaOH in mmol/L"
   ]
  },
  {
   "cell_type": "markdown",
   "metadata": {},
   "source": [
    "## How much NaCl to add to reach same ionic strength as synthetic water\n",
    "IS of 0.0164"
   ]
  },
  {
   "cell_type": "code",
   "execution_count": 60,
   "metadata": {},
   "outputs": [
    {
     "name": "stdout",
     "output_type": "stream",
     "text": [
      "Total nacl dosage is 0.00 mmol/L = 0.00 mg/L; final IS is 0.0167\n"
     ]
    }
   ],
   "source": [
    "sol_correct_is = _sol.copy()\n",
    "target_ionic_strength = 0.0164\n",
    "dose_nacl = 0.01 # mmol/L\n",
    "total_dose_nacl = 0\n",
    "mw_nacl = Formula.from_string('NaCl').mass\n",
    "while sol_correct_is.I < target_ionic_strength:\n",
    "    sol_correct_is.add('NaCl', dose_nacl, 'mmol')\n",
    "    total_dose_nacl += dose_nacl\n",
    "print(f\"Total nacl dosage is {total_dose_nacl:.2f} mmol/L = {total_dose_nacl * mw_nacl:.2f} mg/L; final IS is {sol_correct_is.I:.4f}\")\n",
    "    "
   ]
  },
  {
   "cell_type": "markdown",
   "metadata": {},
   "source": [
    " # Synthetic water\n",
    " Repeat what we have done above for synthetic water instead of the real water from Spannenburg"
   ]
  },
  {
   "cell_type": "markdown",
   "metadata": {},
   "source": [
    " # Create the original synthetic water at pH=3.5"
   ]
  },
  {
   "cell_type": "code",
   "execution_count": 62,
   "metadata": {},
   "outputs": [
    {
     "name": "stdout",
     "output_type": "stream",
     "text": [
      "Added NaHCO3 to reactor, extra inorganic C is 3.87 mmol/L = extra 324.83 mg/L\n"
     ]
    },
    {
     "data": {
      "text/html": [
       "<div>\n",
       "<style scoped>\n",
       "    .dataframe tbody tr th:only-of-type {\n",
       "        vertical-align: middle;\n",
       "    }\n",
       "\n",
       "    .dataframe tbody tr th {\n",
       "        vertical-align: top;\n",
       "    }\n",
       "\n",
       "    .dataframe thead th {\n",
       "        text-align: right;\n",
       "    }\n",
       "</style>\n",
       "<table border=\"1\" class=\"dataframe\">\n",
       "  <thead>\n",
       "    <tr style=\"text-align: right;\">\n",
       "      <th></th>\n",
       "      <th>original</th>\n",
       "      <th>after hcl</th>\n",
       "      <th>after hcl and bubble CO2</th>\n",
       "      <th>after hcl, bubble CO2 add HCO3</th>\n",
       "    </tr>\n",
       "  </thead>\n",
       "  <tbody>\n",
       "    <tr>\n",
       "      <th>SI</th>\n",
       "      <td>-999.000000</td>\n",
       "      <td>-999.000000</td>\n",
       "      <td>-7.507572</td>\n",
       "      <td>0.145740</td>\n",
       "    </tr>\n",
       "    <tr>\n",
       "      <th>pH</th>\n",
       "      <td>8.741046</td>\n",
       "      <td>3.192630</td>\n",
       "      <td>3.155852</td>\n",
       "      <td>7.200000</td>\n",
       "    </tr>\n",
       "    <tr>\n",
       "      <th>HCO3-[mg/L]</th>\n",
       "      <td>0.000000</td>\n",
       "      <td>0.000000</td>\n",
       "      <td>0.064043</td>\n",
       "      <td>291.227015</td>\n",
       "    </tr>\n",
       "    <tr>\n",
       "      <th>CO2[mg/L]</th>\n",
       "      <td>0.000000</td>\n",
       "      <td>0.000000</td>\n",
       "      <td>67.870922</td>\n",
       "      <td>27.435838</td>\n",
       "    </tr>\n",
       "    <tr>\n",
       "      <th>Ca[mg/L]</th>\n",
       "      <td>121.071136</td>\n",
       "      <td>121.284457</td>\n",
       "      <td>121.284162</td>\n",
       "      <td>117.010744</td>\n",
       "    </tr>\n",
       "    <tr>\n",
       "      <th>IS</th>\n",
       "      <td>0.011084</td>\n",
       "      <td>0.011835</td>\n",
       "      <td>0.011898</td>\n",
       "      <td>0.016444</td>\n",
       "    </tr>\n",
       "    <tr>\n",
       "      <th>Na[mg/L]</th>\n",
       "      <td>11.954680</td>\n",
       "      <td>11.954680</td>\n",
       "      <td>11.954680</td>\n",
       "      <td>140.195969</td>\n",
       "    </tr>\n",
       "    <tr>\n",
       "      <th>Cl [mg/L]</th>\n",
       "      <td>262.351444</td>\n",
       "      <td>291.895523</td>\n",
       "      <td>291.895524</td>\n",
       "      <td>291.895530</td>\n",
       "    </tr>\n",
       "  </tbody>\n",
       "</table>\n",
       "</div>"
      ],
      "text/plain": [
       "               original   after hcl  after hcl and bubble CO2  \\\n",
       "SI          -999.000000 -999.000000                 -7.507572   \n",
       "pH             8.741046    3.192630                  3.155852   \n",
       "HCO3-[mg/L]    0.000000    0.000000                  0.064043   \n",
       "CO2[mg/L]      0.000000    0.000000                 67.870922   \n",
       "Ca[mg/L]     121.071136  121.284457                121.284162   \n",
       "IS             0.011084    0.011835                  0.011898   \n",
       "Na[mg/L]      11.954680   11.954680                 11.954680   \n",
       "Cl [mg/L]    262.351444  291.895523                291.895524   \n",
       "\n",
       "             after hcl, bubble CO2 add HCO3  \n",
       "SI                                 0.145740  \n",
       "pH                                 7.200000  \n",
       "HCO3-[mg/L]                      291.227015  \n",
       "CO2[mg/L]                         27.435838  \n",
       "Ca[mg/L]                         117.010744  \n",
       "IS                                 0.016444  \n",
       "Na[mg/L]                         140.195969  \n",
       "Cl [mg/L]                        291.895530  "
      ]
     },
     "execution_count": 62,
     "metadata": {},
     "output_type": "execute_result"
    }
   ],
   "source": [
    "sol_synth_dict = {\n",
    "  'Temp':      20,\n",
    "  'pH':        '7 charge',\n",
    "  'units':     'mmol/kgw',\n",
    "  'Amm': '0.18',\n",
    "  'Ca': '3.03',\n",
    "  'Cl': '7.4',\n",
    "  #'[Fe+2]': '0.21',\n",
    "  'K':         '0.05',\n",
    "  'Mg': '0.42',\n",
    "  'Mn': '0.009',\n",
    "  'Na': '0.52 ',\n",
    "  'P': \"0.01 \",\n",
    "  'Si': '0.23',\n",
    "  'S(6)': '0.02',\n",
    "  'N(3)': '0.154'\n",
    "\n",
    "#   'Alkalinity': \"437.0 mg/kgW as HCO3 \",\n",
    "}\n",
    "sol_synt = pp.add_solution(sol_synth_dict)\n",
    "sol_synths = dict(original= sol_synt)\n",
    "sol_synt_after_hcl = sol_synt.copy()\n",
    "hcl_dose = 50 # mmol , originally 50 mmol\n",
    "na_hco3_dose = 0.1 # mmol / L\n",
    "target_inorg_C = 5.41 # mmol / L\n",
    "\n",
    "sol_synths['after hcl'] = sol_synt.copy().add('HCl', hcl_dose/volume_reactor, 'mmol') # 50 mmol HCl toegevoegd aan reactor met volume van 60 Liter\n",
    "sol_synths['after hcl and bubble CO2'] = sol_synths['after hcl'].copy()\n",
    "sol_synths['after hcl and bubble CO2'].equalize(['Calcite', 'CO2(g)', 'O2(g)'],\n",
    "                    [0, np.log10(fracion*0.039), np.log10(fracion*0.2)],\n",
    "                    [0, 10, 10])\n",
    "sol_synths['after hcl, bubble CO2 add HCO3'] = sol_synths['after hcl and bubble CO2'].copy()\n",
    "inorg_C = sol_synths['after hcl, bubble CO2 add HCO3'].elements['C(4)'] * 1000 # mmol / L\n",
    "extra_inorg_C = target_inorg_C - inorg_C\n",
    "print(f'Added NaHCO3 to reactor, extra inorganic C is {extra_inorg_C:.2f} mmol/L = extra {extra_inorg_C * mw_nahco3:.2f} mg/L')\n",
    "sol_synths['after hcl, bubble CO2 add HCO3'].add('NaHCO3', extra_inorg_C, 'mmol')\n",
    "sol_synths['after hcl, bubble CO2 add HCO3'].change_ph(7.2)\n",
    "\n",
    "\n",
    "mw_hco3 = Formula.from_string('HCO3').mass\n",
    "mw_co2 = Formula.from_string('CO2').mass\n",
    "mw_ca = Formula.from_string('Ca').mass\n",
    "mw_na = Formula.from_string('Na').mass\n",
    "mw_cl = Formula.from_string('Cl').mass\n",
    "pd.DataFrame({k: [v.si('Calcite'), v.pH, v.total('HCO3', 'mmol') * mw_hco3, v.total('CO2', 'mmol')*mw_co2, v.total('Ca+2','mmol')*mw_ca, \n",
    "                  v.I, v.total('Na', 'mmol') * mw_na, v.total('Cl', 'mmol') * mw_cl]\n",
    "             for k, v in sol_synths.items()},\n",
    "             index=['SI', 'pH', 'HCO3-[mg/L]','CO2[mg/L]', 'Ca[mg/L]', 'IS', 'Na[mg/L]', 'Cl [mg/L]'])"
   ]
  },
  {
   "cell_type": "markdown",
   "metadata": {},
   "source": [
    " Amount of NaHCO3 added:"
   ]
  },
  {
   "cell_type": "code",
   "execution_count": 13,
   "metadata": {},
   "outputs": [
    {
     "name": "stdout",
     "output_type": "stream",
     "text": [
      "0.10 mmol/L (=8.40 mg/L) NaHCO3 added to the reactor\n"
     ]
    }
   ],
   "source": [
    "print(f\"{na_hco3_dose:.2f} mmol/L (={na_hco3_dose*mw_nahco3:.2f} mg/L) NaHCO3 added to the reactor\")"
   ]
  },
  {
   "cell_type": "code",
   "execution_count": null,
   "metadata": {},
   "outputs": [],
   "source": []
  },
  {
   "cell_type": "markdown",
   "metadata": {},
   "source": [
    "## How much NaCl to add to reach same ionic strength as synthetic water\n",
    "IS of 0.0167"
   ]
  },
  {
   "cell_type": "code",
   "execution_count": 61,
   "metadata": {},
   "outputs": [
    {
     "name": "stdout",
     "output_type": "stream",
     "text": [
      "Total nacl dosage is 0.26 mmol/L = 15.20 mg/L; final IS is 0.0167\n"
     ]
    }
   ],
   "source": [
    "sol_correct_is = sol_synths['after hcl, bubble CO2 add HCO3'].copy()\n",
    "target_ionic_strength = 0.0167\n",
    "dose_nacl = 0.01 # mmol/L\n",
    "total_dose_nacl = 0\n",
    "mw_nacl = Formula.from_string('NaCl').mass\n",
    "while sol_correct_is.I < target_ionic_strength:\n",
    "    sol_correct_is.add('NaCl', dose_nacl, 'mmol')\n",
    "    total_dose_nacl += dose_nacl\n",
    "print(f\"Total nacl dosage is {total_dose_nacl:.2f} mmol/L = {total_dose_nacl * mw_nacl:.2f} mg/L; final IS is {sol_correct_is.I:.4f}\")\n"
   ]
  },
  {
   "cell_type": "code",
   "execution_count": null,
   "metadata": {},
   "outputs": [],
   "source": []
  }
 ],
 "metadata": {
  "kernelspec": {
   "display_name": "Python 3 (ipykernel)",
   "language": "python",
   "name": "python3"
  },
  "language_info": {
   "codemirror_mode": {
    "name": "ipython",
    "version": 3
   },
   "file_extension": ".py",
   "mimetype": "text/x-python",
   "name": "python",
   "nbconvert_exporter": "python",
   "pygments_lexer": "ipython3",
   "version": "3.9.12"
  }
 },
 "nbformat": 4,
 "nbformat_minor": 4
}
